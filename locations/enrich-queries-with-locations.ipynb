{
 "cells": [
  {
   "cell_type": "code",
   "execution_count": 4,
   "metadata": {},
   "outputs": [],
   "source": [
    "import pysolr\n",
    "import spacy\n",
    "import requests\n",
    "import datetime\n",
    "import json\n",
    "import dateutil.parser\n",
    "nlp = spacy.load('en_core_web_lg')"
   ]
  },
  {
   "cell_type": "markdown",
   "metadata": {},
   "source": [
    "### Make a request to the Mapquest service"
   ]
  },
  {
   "cell_type": "code",
   "execution_count": 5,
   "metadata": {},
   "outputs": [],
   "source": [
    "#MapQuest Geocode service.  More info: https://developer.mapquest.com/documentation/geocoding-api/\n",
    "mapquest_url='https://www.mapquestapi.com/geocoding/v1/address?key=AuqdPFEWYhm7rZRN5hX5HeWSKgaO2u7d&location='\n",
    "def geocode(text):\n",
    "    req = requests.get(mapquest_url+text)\n",
    "    jsn = req.json()\n",
    "    loc = jsn[\"results\"][0][\"locations\"][0]\n",
    "    return loc"
   ]
  },
  {
   "cell_type": "code",
   "execution_count": 17,
   "metadata": {},
   "outputs": [],
   "source": [
    "#us-map-with-latitude-longitude-united-states-latitude-longitude.jpg\n",
    "\n",
    "#Disambiguate to the nearest lat/lng whole numbers:\n",
    "def near(loc):\n",
    "    latlng = loc[\"latLng\"]\n",
    "    return round(latlng[\"lat\"]),round(latlng[\"lng\"])\n",
    "\n",
    "#Normalize to City|State|Country:\n",
    "def norm(loc):\n",
    "    loctypes = {\"City\":\"\",\"State\":\"\",\"Country\":\"\"}\n",
    "    location = None\n",
    "    for i in range(8):\n",
    "        aai = \"adminArea\"+str(i)\n",
    "        aat = aai+\"Type\"\n",
    "        if aat in loc.keys() and loc[aat] in loctypes.keys():\n",
    "            loctypes[loc[aat]] = aai\n",
    "    for typ in loctypes.keys():\n",
    "        fld = loctypes[typ]\n",
    "        if fld in loc.keys() and len(loc[fld]):\n",
    "            if not location:\n",
    "                location = loc[fld]\n",
    "            else:\n",
    "                location += \"|\" + loc[fld]\n",
    "    if not location:\n",
    "        location = \"_UNKNOWN_\"\n",
    "    return location.replace(\" \", \"_\")"
   ]
  },
  {
   "cell_type": "markdown",
   "metadata": {},
   "source": [
    "### Try a couple examples"
   ]
  },
  {
   "cell_type": "code",
   "execution_count": 20,
   "metadata": {},
   "outputs": [
    {
     "name": "stdout",
     "output_type": "stream",
     "text": [
      "Raleigh|NC|US\n",
      "Raleigh|NC|US\n",
      "Chapel_Hill|NC|US\n",
      "Durham|NC|US\n",
      "Durham|NC|US\n",
      "Charlotte|NC|US\n",
      "Bangkok|TH\n"
     ]
    }
   ],
   "source": [
    "#Normalize to City|State|Country\n",
    "print(norm(geocode(\"Raleigh, NC\")))\n",
    "print(norm(geocode(\"Raleigh\")))\n",
    "print(norm(geocode(\"Chapel Hill\")))\n",
    "print(norm(geocode(\"Durham\")))\n",
    "print(norm(geocode(\"RTP, NC\")))\n",
    "print(norm(geocode(\"Charlotte, NC\")))\n",
    "print(norm(geocode(\"Bangkok\")))"
   ]
  },
  {
   "cell_type": "code",
   "execution_count": 21,
   "metadata": {},
   "outputs": [
    {
     "name": "stdout",
     "output_type": "stream",
     "text": [
      "(36, -79)\n",
      "(36, -79)\n",
      "(36, -79)\n",
      "(36, -79)\n",
      "(36, -79)\n",
      "(35, -81)\n",
      "(14, 100)\n"
     ]
    }
   ],
   "source": [
    "print(near(geocode(\"Raleigh, NC\")))\n",
    "print(near(geocode(\"Raleigh\")))\n",
    "print(near(geocode(\"Chapel Hill\")))\n",
    "print(near(geocode(\"Durham\")))\n",
    "print(near(geocode(\"RTP, NC\")))\n",
    "#(36, -79)\n",
    "\n",
    "print(near(geocode(\"Charlotte, NC\")))\n",
    "#(35, -81)\n",
    "\n",
    "print(near(geocode(\"Bangkok\")))"
   ]
  },
  {
   "cell_type": "markdown",
   "metadata": {},
   "source": [
    "### Get entities with SpaCy"
   ]
  },
  {
   "cell_type": "code",
   "execution_count": 22,
   "metadata": {},
   "outputs": [],
   "source": [
    "def recognize_location(text):\n",
    "    doc = nlp(text)\n",
    "    locs = []\n",
    "    for gpe in filter(lambda w: w.ent_type_ in ['GPE','LOC'], doc):\n",
    "        print(\"Text:\",text,\"\\t|\\tLocation:\",gpe)"
   ]
  },
  {
   "cell_type": "code",
   "execution_count": 23,
   "metadata": {},
   "outputs": [
    {
     "name": "stdout",
     "output_type": "stream",
     "text": [
      "Text: Kevin alone in NYC \t|\tLocation: NYC\n",
      "Text: Indiana Jones in India \t|\tLocation: India\n",
      "Text: action hero movie in LA \t|\tLocation: LA\n",
      "Text: Boxing Revenge in Moscow \t|\tLocation: Moscow\n"
     ]
    }
   ],
   "source": [
    "recognize_location(\"Kevin alone in NYC\")\n",
    "recognize_location(\"Indiana Jones in India\")\n",
    "recognize_location(\"action hero movie in LA\")\n",
    "recognize_location(\"Boxing Revenge in Moscow\")"
   ]
  },
  {
   "cell_type": "markdown",
   "metadata": {},
   "source": [
    "### Recognizing location entities with SpaCy"
   ]
  },
  {
   "cell_type": "code",
   "execution_count": 25,
   "metadata": {},
   "outputs": [],
   "source": [
    "def extract_location_entities(text):\n",
    "    #debug here:\n",
    "    # https://explosion.ai/demos/displacy?text=Kevin%20McAllister%20in%20New%20York%20NY&model=en_core_web_lg&cpu=1&cph=1\n",
    "\n",
    "    #merge entities and noun chunks into one token\n",
    "    doc = nlp(text)\n",
    "    spans = list(doc.ents)# + list(doc.noun_chunks)\n",
    "    for span in spans:\n",
    "        span.merge()\n",
    "\n",
    "    relations = []\n",
    "    for gpe in filter(lambda w: w.ent_type_ in ['GPE','LOC'], doc):\n",
    "        if gpe.dep_ in ('attr', 'dobj'):\n",
    "            subject = [w for w in gpe.head.lefts if w.dep_ == 'nsubj']\n",
    "            if subject:\n",
    "                subject = subject[0]\n",
    "                relations.append((subject, gpe))\n",
    "        elif gpe.dep_ == 'pobj' and gpe.head.dep_ == 'prep':\n",
    "            relations.append((gpe.head.head, gpe))\n",
    "        else:\n",
    "            relations.append((None,gpe))\n",
    "\n",
    "    return relations"
   ]
  },
  {
   "cell_type": "markdown",
   "metadata": {},
   "source": [
    "### Subject/Object dependency examples"
   ]
  },
  {
   "cell_type": "code",
   "execution_count": 26,
   "metadata": {},
   "outputs": [
    {
     "name": "stdout",
     "output_type": "stream",
     "text": [
      "[(Kevin McAllister, New York NY)]\n",
      "[(alone, NYC)]\n",
      "[(Indiana Jones, india)]\n",
      "[(None, California)]\n",
      "[(revenge, moscow)]\n",
      "[]\n"
     ]
    }
   ],
   "source": [
    "print(extract_location_entities(\"Kevin McAllister in New York NY\"))\n",
    "print(extract_location_entities(\"Kevin alone in NYC\"))\n",
    "print(extract_location_entities(\"Indiana Jones in India\"))\n",
    "print(extract_location_entities(\"California action hero\"))\n",
    "print(extract_location_entities(\"boxing revenge in moscow\"))\n",
    "print(extract_location_entities(\"Riddick in the underverse\"))"
   ]
  },
  {
   "cell_type": "markdown",
   "metadata": {},
   "source": [
    "### Enrich a query with a location using SpaCy and Mapquest"
   ]
  },
  {
   "cell_type": "code",
   "execution_count": 32,
   "metadata": {},
   "outputs": [
    {
     "data": {
      "text/plain": [
       "{'q': 'Kevin alone in ', 'fq': 'lat:41 lng:-74'}"
      ]
     },
     "execution_count": 32,
     "metadata": {},
     "output_type": "execute_result"
    }
   ],
   "source": [
    "def enrich_query_location(q):\n",
    "    enrichment = {\"q\":q}\n",
    "    entities = extract_location_entities(q)\n",
    "    if len(entities) and len(entities[0])==2:\n",
    "        #found a location - look it up in mapquest and disambiguate\n",
    "        entity = entities[0][1].text\n",
    "        latlng = near(geocode(entity))\n",
    "        if latlng and len(latlng)==2:\n",
    "            # It's a valid location! \n",
    "            # ...add the filter query and remove the text from the query:\n",
    "            fq = \"lat:\"+str(latlng[0]) + \" lng:\"+str(latlng[1])\n",
    "            enrichment[\"fq\"] = fq\n",
    "            enrichment[\"q\"] = q.replace(entity,\"\")\n",
    "    return enrichment\n",
    "enrich_query_location(\"Kevin alone in NYC\")"
   ]
  },
  {
   "cell_type": "code",
   "execution_count": 9,
   "metadata": {},
   "outputs": [],
   "source": [
    "#Solr Client\n",
    "solr = pysolr.Solr('http://localhost:8983/solr/tmdb')\n",
    "\n",
    "#Print the Title, Release Date, and Overview from TMDB\n",
    "def printresults(res):\n",
    "    for r in res:\n",
    "        print('\\n---')\n",
    "        print('\\n\\t'.join([r[\"title\"][0],r[\"lat\"],r[\"lng\"],r[\"overview\"][0]]))\n",
    "\n",
    "def solrquery(q):\n",
    "    return \"title_en:(\"+q+\")^1.2 overview_en:(\"+q+\")\"\n",
    "        \n",
    "#Enrich and Search a text query\n",
    "def search(query):\n",
    "    enriched = enrich_query_location(query)\n",
    "    q = solrquery(enriched[\"q\"])\n",
    "    print(\"Searching for `\" + query + \"` ...\")\n",
    "    print(\"  q = \" + q)\n",
    "    if \"fq\" in enriched and isinstance(enriched[\"fq\"], str):\n",
    "        fq = enriched[\"fq\"]\n",
    "        print(\"  fq = \" + fq)\n",
    "        res = solr.search(q=q,fq=fq,fl=\"title,overview,lat,lng\",rows=3)\n",
    "    else:\n",
    "        print(\"  ...no enrichments\")\n",
    "        res = solr.search(q=q,fl=\"title,overview,release_date\",rows=3)\n",
    "\n",
    "    return res"
   ]
  },
  {
   "cell_type": "markdown",
   "metadata": {},
   "source": [
    "### Let's try it with some good examples"
   ]
  },
  {
   "cell_type": "code",
   "execution_count": 1,
   "metadata": {},
   "outputs": [
    {
     "ename": "NameError",
     "evalue": "name 'printresults' is not defined",
     "output_type": "error",
     "traceback": [
      "\u001b[0;31m---------------------------------------------------------------------------\u001b[0m",
      "\u001b[0;31mNameError\u001b[0m                                 Traceback (most recent call last)",
      "\u001b[0;32m<ipython-input-1-aef963d90df9>\u001b[0m in \u001b[0;36m<module>\u001b[0;34m\u001b[0m\n\u001b[0;32m----> 1\u001b[0;31m \u001b[0mprintresults\u001b[0m\u001b[0;34m(\u001b[0m\u001b[0msearch\u001b[0m\u001b[0;34m(\u001b[0m\u001b[0;34m\"harry potter last 5 years\"\u001b[0m\u001b[0;34m)\u001b[0m\u001b[0;34m)\u001b[0m\u001b[0;34m\u001b[0m\u001b[0;34m\u001b[0m\u001b[0m\n\u001b[0m",
      "\u001b[0;31mNameError\u001b[0m: name 'printresults' is not defined"
     ]
    }
   ],
   "source": [
    "printresults(search(\"harry potter last 5 years\"))"
   ]
  },
  {
   "cell_type": "code",
   "execution_count": 11,
   "metadata": {},
   "outputs": [
    {
     "name": "stdout",
     "output_type": "stream",
     "text": [
      "Searching for `indiana jones 1/1/1980 to 12/31/1987` ...\n",
      "  q = title_en:(indiana jones )^1.2 overview_en:(indiana jones )\n",
      "  fq = release_date:[1980-01-01T00:00:00Z TO 1988-01-01T00:00:00Z]\n",
      "\n",
      "---\n",
      "Indiana Jones and the Temple of Doom\n",
      "\t1984-05-23T00:00:00Z\n",
      "\tAfter arriving in India, Indiana Jones is asked by a desperate village to find a mystical stone. He agrees – and stumbles upon a secret cult plotting a terrible plan in the catacombs of an ancient palace.\n",
      "\n",
      "---\n",
      "Raiders of the Lost Ark\n",
      "\t1981-06-12T00:00:00Z\n",
      "\tWhen Dr. Indiana Jones – the tweed-suited professor who just happens to be a celebrated archaeologist – is hired by the government to locate the legendary Ark of the Covenant, he finds himself up against the entire Nazi regime.\n",
      "\n",
      "---\n",
      "Guyana Tragedy: The Story of Jim Jones\n",
      "\t1980-04-15T00:00:00Z\n",
      "\tThe story of the Peoples Temple cult led by Jim Jones and the events leading up to one of the largest mass suicides in history.\n"
     ]
    }
   ],
   "source": [
    "printresults(search(\"indiana jones 1/1/1980 to 12/31/1987\"))"
   ]
  },
  {
   "cell_type": "code",
   "execution_count": 12,
   "metadata": {},
   "outputs": [
    {
     "name": "stdout",
     "output_type": "stream",
     "text": [
      "Searching for `harry potter goblet` ...\n",
      "  q = title_en:(harry potter goblet)^1.2 overview_en:(harry potter goblet)\n",
      "  ...no enrichments\n",
      "\n",
      "---\n",
      "Harry Potter and the Goblet of Fire\n",
      "\t2005-11-05T00:00:00Z\n",
      "\tHarry starts his fourth year at Hogwarts, competes in the treacherous Triwizard Tournament and faces the evil Lord Voldemort. Ron and Hermione help Harry manage the pressure – but Voldemort lurks, awaiting his chance to destroy Harry and all that he stands for.\n",
      "\n",
      "---\n",
      "Harry Potter and the Philosopher's Stone\n",
      "\t2001-11-16T00:00:00Z\n",
      "\tHarry Potter has lived under the stairs at his aunt and uncle's house his whole life. But on his 11th birthday, he learns he's a powerful wizard -- with a place waiting for him at the Hogwarts School of Witchcraft and Wizardry. As he learns to harness his newfound powers with the help of the school's kindly headmaster, Harry uncovers the truth about his parents' deaths -- and about the villain who's to blame.\n",
      "\n",
      "---\n",
      "A Very Potter Musical\n",
      "\t2009-04-09T00:00:00Z\n",
      "\tIn April 2009, a group of University of Michigan students (Team StarKid) performed what was renamed \"A Very Potter Musical\", a two act musical parody that featured major elements from all seven Harry Potter books and an original score.\n"
     ]
    }
   ],
   "source": [
    "printresults(search(\"harry potter goblet\"))"
   ]
  },
  {
   "cell_type": "code",
   "execution_count": null,
   "metadata": {},
   "outputs": [],
   "source": []
  }
 ],
 "metadata": {
  "kernelspec": {
   "display_name": "Python 3",
   "language": "python",
   "name": "python3"
  },
  "language_info": {
   "codemirror_mode": {
    "name": "ipython",
    "version": 3
   },
   "file_extension": ".py",
   "mimetype": "text/x-python",
   "name": "python",
   "nbconvert_exporter": "python",
   "pygments_lexer": "ipython3",
   "version": "3.6.7"
  }
 },
 "nbformat": 4,
 "nbformat_minor": 2
}
