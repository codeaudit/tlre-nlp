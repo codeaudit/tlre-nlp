{
 "cells": [
  {
   "cell_type": "code",
   "execution_count": 1,
   "metadata": {},
   "outputs": [],
   "source": [
    "import pysolr\n",
    "import spacy\n",
    "import requests\n",
    "import datetime\n",
    "import json\n",
    "import dateutil.parser\n",
    "nlp = spacy.load('en_core_web_lg')"
   ]
  },
  {
   "cell_type": "markdown",
   "metadata": {},
   "source": [
    "### Make a request to the Mapquest service"
   ]
  },
  {
   "cell_type": "code",
   "execution_count": 2,
   "metadata": {},
   "outputs": [],
   "source": [
    "#MapQuest Geocode service.  More info: https://developer.mapquest.com/documentation/geocoding-api/\n",
    "mapquest_url='https://www.mapquestapi.com/geocoding/v1/address?key=FVfj6GGCXVEGUjXvokn4IbXdNAHIbbH0&location='\n",
    "def geocode(text):\n",
    "    req = requests.get(mapquest_url+text)\n",
    "    jsn = req.json()\n",
    "    loc = None\n",
    "    if \"results\" in jsn and len(jsn[\"results\"]) and \"locations\" in jsn[\"results\"][0] and len(jsn[\"results\"][0][\"locations\"]):\n",
    "        loc = jsn[\"results\"][0][\"locations\"][0]\n",
    "    return loc"
   ]
  },
  {
   "cell_type": "code",
   "execution_count": 3,
   "metadata": {},
   "outputs": [],
   "source": [
    "#Transform a Mapquest latLng point to a Solr geofilt point\n",
    "def latlng_point(loc):\n",
    "    latlng = loc[\"latLng\"]\n",
    "    return str(latlng[\"lat\"]) + ',' + str(latlng[\"lng\"])"
   ]
  },
  {
   "cell_type": "markdown",
   "metadata": {},
   "source": [
    "### Get entities with SpaCy"
   ]
  },
  {
   "cell_type": "code",
   "execution_count": 4,
   "metadata": {},
   "outputs": [],
   "source": [
    "def extract_chunked_locations(text):\n",
    "    #Use a basic finite state machine to chunk proper noun GPEs as one location\n",
    "    #Maintain positions of the tokens for removal from the query\n",
    "    doc = nlp(text)\n",
    "    gpes = []\n",
    "    for s in doc.sents:\n",
    "        curr = []\n",
    "        start = None\n",
    "        end = None\n",
    "        last = None\n",
    "        isgpe = False\n",
    "        for t in s:\n",
    "            if (t.pos_ == 'PROPN' and t.ent_type_ == 'GPE') or (isgpe == True and t.text==','):\n",
    "                isgpe = True\n",
    "                if t.text!=',':\n",
    "                    curr.append(t.text)\n",
    "                    if (start is None):\n",
    "                        start = t.doc[t.i:t.i].start_char\n",
    "                    last = t\n",
    "            elif isgpe == True:\n",
    "                end = last.doc[last.i:last.i].start_char + len(last)\n",
    "                gpes.append({\"text\":' '.join(curr),\"start\":start,\"end\":end})\n",
    "                curr = []\n",
    "                start = None\n",
    "                end = None\n",
    "                isgpe = False\n",
    "            else:\n",
    "                isgpe = False\n",
    "        if(len(curr)):\n",
    "            end = last.doc[last.i:last.i].start_char + len(last)\n",
    "            gpes.append({\"text\":' '.join(curr),\"start\":start,\"end\":end})                 \n",
    "            curr = []\n",
    "            start = None\n",
    "            end = None\n",
    "            isgpe = False\n",
    "    return gpes"
   ]
  },
  {
   "cell_type": "code",
   "execution_count": 5,
   "metadata": {},
   "outputs": [
    {
     "name": "stdout",
     "output_type": "stream",
     "text": [
      "[{'text': 'New York NY', 'start': 21, 'end': 32}]\n",
      "[{'text': 'NYC', 'start': 15, 'end': 18}]\n",
      "[{'text': 'India', 'start': 17, 'end': 22}]\n",
      "[{'text': 'California', 'start': 0, 'end': 10}]\n",
      "[]\n",
      "[{'text': 'Moscow', 'start': 18, 'end': 24}]\n",
      "[]\n"
     ]
    }
   ],
   "source": [
    "print(extract_chunked_locations(\"Kevin McCallister in New York NY\"))\n",
    "print(extract_chunked_locations(\"Kevin alone in NYC\"))\n",
    "print(extract_chunked_locations(\"Indiana Jones India\"))\n",
    "print(extract_chunked_locations(\"Los Angeles escape\"))\n",
    "print(extract_chunked_locations(\"boxing revenge in moscow\"))\n",
    "print(extract_chunked_locations(\"boxing revenge in Moscow\"))\n",
    "print(extract_chunked_locations(\"Riddick in the underverse\"))"
   ]
  },
  {
   "cell_type": "markdown",
   "metadata": {},
   "source": [
    "### Enrich a query with a location using SpaCy and Mapquest"
   ]
  },
  {
   "cell_type": "code",
   "execution_count": 6,
   "metadata": {},
   "outputs": [
    {
     "data": {
      "text/plain": [
       "{'q': 'Kevin alone in ',\n",
       " 'fq': '{!geofilt sfield=location}',\n",
       " 'pt': '40.713054,-74.007228',\n",
       " 'd': 20}"
      ]
     },
     "execution_count": 6,
     "metadata": {},
     "output_type": "execute_result"
    }
   ],
   "source": [
    "def enrich_query_location(q):\n",
    "    #q=*:*&fq={!geofilt%20sfield=location}&pt=18.36336,-66.07684&d=50&fl=title,overview,location*\n",
    "    enrichment = {\"q\":q}\n",
    "    entities = extract_chunked_locations(q)\n",
    "    if len(entities):\n",
    "        #found a location - look it up in mapquest and disambiguate\n",
    "        entity = entities[0]\n",
    "        geocoded = geocode(entity[\"text\"])\n",
    "        if geocoded:\n",
    "            # It's a valid location!\n",
    "            # ...add the filter query and remove the text from the query:\n",
    "            latlng = latlng_point(geocoded)\n",
    "            fq = \"{!geofilt sfield=location}\"\n",
    "            pt = latlng\n",
    "            d = 20\n",
    "            enrichment[\"fq\"] = fq\n",
    "            enrichment[\"pt\"] = pt\n",
    "            enrichment[\"d\"] = d\n",
    "            enrichment[\"q\"] = q[0:entity[\"start\"]] + q[entity[\"end\"]:]\n",
    "    return enrichment\n",
    "\n",
    "#Test it out:\n",
    "enrich_query_location(\"Kevin alone in New York, NY\")"
   ]
  },
  {
   "cell_type": "code",
   "execution_count": 7,
   "metadata": {},
   "outputs": [],
   "source": [
    "#Solr Client\n",
    "solr = pysolr.Solr('http://localhost:8983/solr/tmdb')\n",
    "\n",
    "#Print the Title, Release Date, and Overview from TMDB\n",
    "def printresults(res):\n",
    "    for r in res:\n",
    "        print('\\n---')\n",
    "        if \"location\" in r and len(r[\"location\"]):\n",
    "            print('\\n\\t'.join([r[\"title\"][0],r[\"location\"][0],r[\"overview\"][0]]))\n",
    "        else:\n",
    "            print('\\n\\t'.join([r[\"title\"][0],\"NO LOCATION DATA\",r[\"overview\"][0]]))\n",
    "\n",
    "def solrquery(q):\n",
    "    return \"title_en:(\"+q+\")^1.2 overview_en:(\"+q+\")\"\n",
    "        \n",
    "#Enrich and Search a text query\n",
    "def search(query):\n",
    "    enriched = enrich_query_location(query)\n",
    "    q = solrquery(enriched[\"q\"])\n",
    "    print(\"Searching for `\" + query + \"` ...\")\n",
    "    print(\"  q = \" + q)\n",
    "    if \"fq\" in enriched and isinstance(enriched[\"fq\"], str):\n",
    "        fq = enriched[\"fq\"]\n",
    "        pt = enriched[\"pt\"]\n",
    "        d = enriched[\"d\"]\n",
    "        print(\"  fq = \" + fq)\n",
    "        print(\"  pt = \" + pt)\n",
    "        print(\"  d = \" + str(d))\n",
    "        res = solr.search(q=q,fq=fq,pt=pt,d=d,fl=\"title,overview,location,location_city,location_state,location_country\",rows=3)\n",
    "    else:\n",
    "        print(\"  ...no enrichments\")\n",
    "        res = solr.search(q=q,fl=\"title,overview,release_date\",rows=3)\n",
    "\n",
    "    return res"
   ]
  },
  {
   "cell_type": "markdown",
   "metadata": {},
   "source": [
    "### Let's try it with some good examples"
   ]
  },
  {
   "cell_type": "code",
   "execution_count": 8,
   "metadata": {},
   "outputs": [
    {
     "name": "stdout",
     "output_type": "stream",
     "text": [
      "Searching for `Kevin McCallister in New York NY` ...\n",
      "  q = title_en:(Kevin McCallister in )^1.2 overview_en:(Kevin McCallister in )\n",
      "  fq = {!geofilt sfield=location}\n",
      "  pt = 40.713054,-74.007228\n",
      "  d = 20\n",
      "\n",
      "---\n",
      "Home Alone 2: Lost In New York\n",
      "\t28.260731,-82.420978\n",
      "\tInstead of flying to Florida with his folks, Kevin ends up alone in New York, where he gets a hotel room with his dad's credit card—despite problems from a clerk and meddling bellboy. But when Kevin runs into his old nemeses, the Wet Bandits, he's determined to foil their plans to rob a toy store on Christmas eve.\n"
     ]
    }
   ],
   "source": [
    "printresults(search(\"Kevin McCallister in New York NY\"))"
   ]
  },
  {
   "cell_type": "code",
   "execution_count": 13,
   "metadata": {},
   "outputs": [
    {
     "name": "stdout",
     "output_type": "stream",
     "text": [
      "Searching for `Indiana Jones India` ...\n",
      "  q = title_en:( Jones India)^1.2 overview_en:( Jones India)\n",
      "  fq = {!geofilt sfield=location}\n",
      "  pt = 39.919991,-86.2818\n",
      "  d = 20\n",
      "\n",
      "---\n",
      "Indiana Jones and the Temple of Doom\n",
      "\t39.919991,-86.2818\n",
      "\tAfter arriving in India, Indiana Jones is asked by a desperate village to find a mystical stone. He agrees – and stumbles upon a secret cult plotting a terrible plan in the catacombs of an ancient palace.\n",
      "\n",
      "---\n",
      "Indiana Jones and the Last Crusade\n",
      "\t39.919991,-86.2818\n",
      "\tWhen Dr. Henry Jones Sr. suddenly goes missing while pursuing the Holy Grail, eminent archaeologist Indiana must team up with Marcus Brody, Sallah and Elsa Schneider to follow in his father's footsteps and stop the Nazis from recovering the power of eternal life.\n",
      "\n",
      "---\n",
      "Armour of God\n",
      "\t39.919991,-86.2818\n",
      "\tJackie Chan stars as Asian Hawk, an Indiana Jones-style adventurer looking to make a fortune in exotic antiquities. After Hawk discovers a mysterious sword in Africa, a band of Satan-worshipping monks kidnap his ex-girlfriend Lorelei, demanding the sword as ransom as well as other pieces of the legendary Armour of God - a magical outfit dating back to the Crusades.\n"
     ]
    }
   ],
   "source": [
    "printresults(search(\"Indiana Jones India\"))"
   ]
  },
  {
   "cell_type": "code",
   "execution_count": 18,
   "metadata": {},
   "outputs": [
    {
     "name": "stdout",
     "output_type": "stream",
     "text": [
      "Searching for `Los Angeles escape` ...\n",
      "  q = title_en:( escape)^1.2 overview_en:( escape)\n",
      "  fq = {!geofilt sfield=location}\n",
      "  pt = 34.052238,-118.243344\n",
      "  d = 20\n",
      "\n",
      "---\n",
      "Escape from L.A.\n",
      "\t34.052238,-118.243344\n",
      "\tThis time, a cataclysmic temblor hits Los Angeles, turning it into an island. The president views the quake as a sign from above, expels Los Angeles from the country and makes it a penal colony for those found guilty of moral crimes. When his daughter, part of a resistance movement, steals the control unit for a doomsday weapon, Snake again gets tapped to save the day.\n",
      "\n",
      "---\n",
      "The Snow Creature\n",
      "\t36.827085,139.890341\n",
      "\tA botanical expedition to the Himalayas captures a Yeti and brings it back alive to Los Angeles, where it escapes and runs amok, seeking food.\n",
      "\n",
      "---\n",
      "Blade Runner\n",
      "\t34.052238,-118.243344\n",
      "\tIn the smog-choked dystopian Los Angeles of 2019, blade runner Rick Deckard is called out of retirement to terminate a quartet of replicants who have escaped to Earth seeking their creator for a way to extend their short life spans.\n"
     ]
    }
   ],
   "source": [
    "printresults(search(\"Los Angeles escape\"))"
   ]
  },
  {
   "cell_type": "code",
   "execution_count": 58,
   "metadata": {},
   "outputs": [
    {
     "name": "stdout",
     "output_type": "stream",
     "text": [
      "Searching for `boxing revenge in Moscow` ...\n",
      "  q = title_en:(boxing revenge in )^1.2 overview_en:(boxing revenge in )\n",
      "  fq = {!geofilt sfield=location}\n",
      "  pt = 55.751634,37.618704\n",
      "  d = 20\n",
      "\n",
      "---\n",
      "Rocky IV\n",
      "\t55.751634,37.618704\n",
      "\tRocky must come out of retirement to battle a gargantuan Soviet fighter named Drago, who brutally punished Rocky's friend and former rival, Apollo Creed. Seeking revenge in the name of his fallen comrade and his country, Rocky agrees to fight Drago in Moscow on Christmas, and the bout changes both fighters -- and the world.\n"
     ]
    }
   ],
   "source": [
    "printresults(search(\"boxing revenge in Moscow\"))"
   ]
  },
  {
   "cell_type": "code",
   "execution_count": 22,
   "metadata": {},
   "outputs": [
    {
     "name": "stdout",
     "output_type": "stream",
     "text": [
      "Searching for `Midnight in France` ...\n",
      "  q = title_en:(Midnight in )^1.2 overview_en:(Midnight in )\n",
      "  fq = {!geofilt sfield=location}\n",
      "  pt = 46.623974,2.462247\n",
      "  d = 20\n",
      "\n",
      "---\n",
      "A Midnight Clear\n",
      "\t46.623974,2.462247\n",
      "\tSet in 1944 France, an American Intelligence Squad locates a German Platoon wishing to surrender rather than die in Germany's final war offensive. The two groups of men, isolated from the war at present, put aside their differences and spend Christmas together before the surrender plan turns bad and both sides are forced to fight the other.\n"
     ]
    }
   ],
   "source": [
    "printresults(search(\"Midnight in France\"))"
   ]
  },
  {
   "cell_type": "code",
   "execution_count": null,
   "metadata": {},
   "outputs": [],
   "source": []
  }
 ],
 "metadata": {
  "kernelspec": {
   "display_name": "Python 3",
   "language": "python",
   "name": "python3"
  },
  "language_info": {
   "codemirror_mode": {
    "name": "ipython",
    "version": 3
   },
   "file_extension": ".py",
   "mimetype": "text/x-python",
   "name": "python",
   "nbconvert_exporter": "python",
   "pygments_lexer": "ipython3",
   "version": "3.6.7"
  }
 },
 "nbformat": 4,
 "nbformat_minor": 2
}
