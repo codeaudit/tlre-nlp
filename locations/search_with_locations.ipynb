{
 "cells": [
  {
   "cell_type": "code",
   "execution_count": 1,
   "metadata": {},
   "outputs": [],
   "source": [
    "import pysolr\n",
    "import spacy\n",
    "import requests\n",
    "import datetime\n",
    "import json\n",
    "import dateutil.parser\n",
    "from IPython.display import Markdown, display\n",
    "nlp = spacy.load('en_core_web_lg')"
   ]
  },
  {
   "cell_type": "markdown",
   "metadata": {},
   "source": [
    "### Make a request to the Mapquest service"
   ]
  },
  {
   "cell_type": "code",
   "execution_count": 2,
   "metadata": {},
   "outputs": [],
   "source": [
    "#MapQuest Geocode service.  More info: https://developer.mapquest.com/documentation/geocoding-api/\n",
    "mapquest_url='https://www.mapquestapi.com/geocoding/v1/address?key=FVfj6GGCXVEGUjXvokn4IbXdNAHIbbH0&location='\n",
    "def geocode(text):\n",
    "    req = requests.get(mapquest_url+text)\n",
    "    jsn = req.json()\n",
    "    loc = None\n",
    "    if \"results\" in jsn and len(jsn[\"results\"]) and \"locations\" in jsn[\"results\"][0] and len(jsn[\"results\"][0][\"locations\"]):\n",
    "        loc = jsn[\"results\"][0][\"locations\"][0]\n",
    "    return loc"
   ]
  },
  {
   "cell_type": "code",
   "execution_count": 3,
   "metadata": {},
   "outputs": [],
   "source": [
    "#Transform a Mapquest latLng point to a Solr geofilt point\n",
    "def latlng_point(loc):\n",
    "    latlng = loc[\"latLng\"]\n",
    "    return str(latlng[\"lat\"]) + ',' + str(latlng[\"lng\"])"
   ]
  },
  {
   "cell_type": "markdown",
   "metadata": {},
   "source": [
    "### Get entities with SpaCy"
   ]
  },
  {
   "cell_type": "code",
   "execution_count": 4,
   "metadata": {},
   "outputs": [],
   "source": [
    "def extract_chunked_locations(text):\n",
    "    #Use a basic finite state machine to chunk proper noun GPEs as one location\n",
    "    #Maintain positions of the tokens for removal from the query\n",
    "    doc = nlp(text)\n",
    "    gpes = []\n",
    "    for s in doc.sents:\n",
    "        curr = []\n",
    "        start = None\n",
    "        end = None\n",
    "        last = None\n",
    "        isgpe = False\n",
    "        for t in s:\n",
    "            if (t.pos_ == 'PROPN' and t.ent_type_ == 'GPE') or (isgpe == True and t.text==','):\n",
    "                isgpe = True\n",
    "                if t.text!=',':\n",
    "                    curr.append(t.text)\n",
    "                    if (start is None):\n",
    "                        start = t.doc[t.i:t.i].start_char\n",
    "                    last = t\n",
    "            elif isgpe == True:\n",
    "                end = last.doc[last.i:last.i].start_char + len(last)\n",
    "                gpes.append({\"text\":' '.join(curr),\"start\":start,\"end\":end})\n",
    "                curr = []\n",
    "                start = None\n",
    "                end = None\n",
    "                isgpe = False\n",
    "            else:\n",
    "                isgpe = False\n",
    "        if(len(curr)):\n",
    "            end = last.doc[last.i:last.i].start_char + len(last)\n",
    "            gpes.append({\"text\":' '.join(curr),\"start\":start,\"end\":end})                 \n",
    "            curr = []\n",
    "            start = None\n",
    "            end = None\n",
    "            isgpe = False\n",
    "    return gpes"
   ]
  },
  {
   "cell_type": "code",
   "execution_count": 5,
   "metadata": {},
   "outputs": [
    {
     "name": "stdout",
     "output_type": "stream",
     "text": [
      "[{'text': 'New York NY', 'start': 21, 'end': 32}]\n",
      "[{'text': 'NYC', 'start': 15, 'end': 18}]\n",
      "[{'text': 'Indiana', 'start': 0, 'end': 7}, {'text': 'India', 'start': 14, 'end': 19}]\n",
      "[{'text': 'Los Angeles', 'start': 0, 'end': 11}]\n",
      "[]\n",
      "[{'text': 'Moscow', 'start': 18, 'end': 24}]\n",
      "[]\n"
     ]
    }
   ],
   "source": [
    "print(extract_chunked_locations(\"Kevin McCallister in New York NY\"))\n",
    "print(extract_chunked_locations(\"Kevin alone in NYC\"))\n",
    "print(extract_chunked_locations(\"Indiana Jones India\"))\n",
    "print(extract_chunked_locations(\"Los Angeles escape\"))\n",
    "print(extract_chunked_locations(\"boxing revenge in moscow\"))\n",
    "print(extract_chunked_locations(\"boxing revenge in Moscow\"))\n",
    "print(extract_chunked_locations(\"Riddick in the underverse\"))"
   ]
  },
  {
   "cell_type": "markdown",
   "metadata": {},
   "source": [
    "### Enrich a query with a location using SpaCy and Mapquest"
   ]
  },
  {
   "cell_type": "code",
   "execution_count": 6,
   "metadata": {},
   "outputs": [
    {
     "data": {
      "text/plain": [
       "{'q': 'Kevin alone in ',\n",
       " 'fq': '{!geofilt sfield=location}',\n",
       " 'pt': '40.713054,-74.007228',\n",
       " 'd': 20}"
      ]
     },
     "execution_count": 6,
     "metadata": {},
     "output_type": "execute_result"
    }
   ],
   "source": [
    "def enrich_query_location(q):\n",
    "    #q=*:*&fq={!geofilt%20sfield=location}&pt=18.36336,-66.07684&d=50&fl=title,overview,location*\n",
    "    enrichment = {\"q\":q}\n",
    "    entities = extract_chunked_locations(q)\n",
    "    if len(entities):\n",
    "        #found a location - look it up in mapquest and disambiguate\n",
    "        entity = entities[0]\n",
    "        geocoded = geocode(entity[\"text\"])\n",
    "        if geocoded:\n",
    "            # It's a valid location!\n",
    "            # ...add the filter query and remove the text from the query:\n",
    "            latlng = latlng_point(geocoded)\n",
    "            fq = \"{!geofilt sfield=location}\"\n",
    "            pt = latlng\n",
    "            d = 20\n",
    "            enrichment[\"fq\"] = fq\n",
    "            enrichment[\"pt\"] = pt\n",
    "            enrichment[\"d\"] = d\n",
    "            enrichment[\"q\"] = q[0:entity[\"start\"]] + q[entity[\"end\"]:]\n",
    "    return enrichment\n",
    "\n",
    "#Test it out:\n",
    "enrich_query_location(\"Kevin alone in New York, NY\")"
   ]
  },
  {
   "cell_type": "code",
   "execution_count": 21,
   "metadata": {},
   "outputs": [],
   "source": [
    "#Solr Client\n",
    "solr = pysolr.Solr('http://localhost:8983/solr/tmdb')\n",
    "\n",
    "#Formats a search result as markdown and prints\n",
    "def printmd(title,location,date,overview):\n",
    "    title = '### ' + title + '\\n'\n",
    "    date = '_' + str(date) + '_\\n'\n",
    "    location = '_' + str(location) + '_\\n'\n",
    "    overview = '> ' + overview\n",
    "    display(Markdown(title))\n",
    "    display(Markdown(location))\n",
    "    display(Markdown(date))\n",
    "    display(Markdown(overview))\n",
    "\n",
    "#Print the Title, Release Date, and Overview from TMDB\n",
    "def printresults(res):\n",
    "    for r in res:\n",
    "        print('\\n---')\n",
    "        if \"location\" in r and len(r[\"location\"]):\n",
    "            printmd(r[\"title\"][0],r[\"location\"][0],r[\"release_date\"],r[\"overview\"][0])\n",
    "        else:\n",
    "            printmd(r[\"title\"][0],\"NO LOCATION DATA\",r[\"release_date\"],r[\"overview\"][0])\n",
    "\n",
    "def solrquery(q):\n",
    "    if len(q):\n",
    "        return \"title_en:(\"+q+\")^1.2 overview_en:(\"+q+\")\"\n",
    "    else:\n",
    "        return None\n",
    "        \n",
    "#Enrich and Search a text query\n",
    "def search(query):\n",
    "    enriched = enrich_query_location(query)\n",
    "    q = solrquery(enriched[\"q\"])\n",
    "    print(\"Searching for `\" + query + \"` ...\")\n",
    "    if q:\n",
    "        print(\"  q = \" + q)\n",
    "    if \"fq\" in enriched and isinstance(enriched[\"fq\"], str):\n",
    "        fq = enriched[\"fq\"]\n",
    "        pt = enriched[\"pt\"]\n",
    "        d = enriched[\"d\"]\n",
    "        print(\"  fq = \" + fq)\n",
    "        print(\"  pt = \" + pt)\n",
    "        print(\"  d = \" + str(d))\n",
    "        res = solr.search(q=q,fq=fq,pt=pt,d=d,fl=\"title,overview,location,location_city,location_state,location_country,release_date\",rows=3)\n",
    "    else:\n",
    "        print(\"  ...no enrichments\")\n",
    "        res = solr.search(q=q,fl=\"title,overview,release_date\",rows=3)\n",
    "\n",
    "    return res"
   ]
  },
  {
   "cell_type": "markdown",
   "metadata": {},
   "source": [
    "### Let's try it with some good examples"
   ]
  },
  {
   "cell_type": "code",
   "execution_count": 22,
   "metadata": {},
   "outputs": [
    {
     "name": "stdout",
     "output_type": "stream",
     "text": [
      "Searching for `Kevin McCallister in New York NY` ...\n",
      "  q = title_en:(Kevin McCallister in )^1.2 overview_en:(Kevin McCallister in )\n",
      "  fq = {!geofilt sfield=location}\n",
      "  pt = 40.713054,-74.007228\n",
      "  d = 20\n",
      "\n",
      "---\n"
     ]
    },
    {
     "data": {
      "text/markdown": [
       "### Home Alone 2: Lost In New York\n"
      ],
      "text/plain": [
       "<IPython.core.display.Markdown object>"
      ]
     },
     "metadata": {},
     "output_type": "display_data"
    },
    {
     "data": {
      "text/markdown": [
       "_40.713054,-74.007228_\n"
      ],
      "text/plain": [
       "<IPython.core.display.Markdown object>"
      ]
     },
     "metadata": {},
     "output_type": "display_data"
    },
    {
     "data": {
      "text/markdown": [
       "_1992-11-19T00:00:00Z_\n"
      ],
      "text/plain": [
       "<IPython.core.display.Markdown object>"
      ]
     },
     "metadata": {},
     "output_type": "display_data"
    },
    {
     "data": {
      "text/markdown": [
       "> Instead of flying to Florida with his folks, Kevin ends up alone in New York, where he gets a hotel room with his dad's credit card—despite problems from a clerk and meddling bellboy. But when Kevin runs into his old nemeses, the Wet Bandits, he's determined to foil their plans to rob a toy store on Christmas eve."
      ],
      "text/plain": [
       "<IPython.core.display.Markdown object>"
      ]
     },
     "metadata": {},
     "output_type": "display_data"
    }
   ],
   "source": [
    "printresults(search(\"Kevin McCallister in New York NY\"))"
   ]
  },
  {
   "cell_type": "code",
   "execution_count": 11,
   "metadata": {},
   "outputs": [
    {
     "name": "stdout",
     "output_type": "stream",
     "text": [
      "Searching for `Indiana Jones India` ...\n",
      "  q = title_en:( Jones India)^1.2 overview_en:( Jones India)\n",
      "  fq = {!geofilt sfield=location}\n",
      "  pt = 39.919991,-86.2818\n",
      "  d = 20\n",
      "\n",
      "---\n"
     ]
    },
    {
     "data": {
      "text/markdown": [
       "### Indiana Jones and the Temple of Doom\n"
      ],
      "text/plain": [
       "<IPython.core.display.Markdown object>"
      ]
     },
     "metadata": {},
     "output_type": "display_data"
    },
    {
     "data": {
      "text/markdown": [
       "_39.919991,-86.2818_\n"
      ],
      "text/plain": [
       "<IPython.core.display.Markdown object>"
      ]
     },
     "metadata": {},
     "output_type": "display_data"
    },
    {
     "data": {
      "text/markdown": [
       "_1984-05-23T00:00:00Z_\n"
      ],
      "text/plain": [
       "<IPython.core.display.Markdown object>"
      ]
     },
     "metadata": {},
     "output_type": "display_data"
    },
    {
     "data": {
      "text/markdown": [
       "> After arriving in India, Indiana Jones is asked by a desperate village to find a mystical stone. He agrees – and stumbles upon a secret cult plotting a terrible plan in the catacombs of an ancient palace."
      ],
      "text/plain": [
       "<IPython.core.display.Markdown object>"
      ]
     },
     "metadata": {},
     "output_type": "display_data"
    },
    {
     "name": "stdout",
     "output_type": "stream",
     "text": [
      "\n",
      "---\n"
     ]
    },
    {
     "data": {
      "text/markdown": [
       "### Indiana Jones and the Last Crusade\n"
      ],
      "text/plain": [
       "<IPython.core.display.Markdown object>"
      ]
     },
     "metadata": {},
     "output_type": "display_data"
    },
    {
     "data": {
      "text/markdown": [
       "_39.919991,-86.2818_\n"
      ],
      "text/plain": [
       "<IPython.core.display.Markdown object>"
      ]
     },
     "metadata": {},
     "output_type": "display_data"
    },
    {
     "data": {
      "text/markdown": [
       "_1989-05-24T00:00:00Z_\n"
      ],
      "text/plain": [
       "<IPython.core.display.Markdown object>"
      ]
     },
     "metadata": {},
     "output_type": "display_data"
    },
    {
     "data": {
      "text/markdown": [
       "> When Dr. Henry Jones Sr. suddenly goes missing while pursuing the Holy Grail, eminent archaeologist Indiana must team up with Marcus Brody, Sallah and Elsa Schneider to follow in his father's footsteps and stop the Nazis from recovering the power of eternal life."
      ],
      "text/plain": [
       "<IPython.core.display.Markdown object>"
      ]
     },
     "metadata": {},
     "output_type": "display_data"
    },
    {
     "name": "stdout",
     "output_type": "stream",
     "text": [
      "\n",
      "---\n"
     ]
    },
    {
     "data": {
      "text/markdown": [
       "### Armour of God\n"
      ],
      "text/plain": [
       "<IPython.core.display.Markdown object>"
      ]
     },
     "metadata": {},
     "output_type": "display_data"
    },
    {
     "data": {
      "text/markdown": [
       "_39.919991,-86.2818_\n"
      ],
      "text/plain": [
       "<IPython.core.display.Markdown object>"
      ]
     },
     "metadata": {},
     "output_type": "display_data"
    },
    {
     "data": {
      "text/markdown": [
       "_1986-08-16T00:00:00Z_\n"
      ],
      "text/plain": [
       "<IPython.core.display.Markdown object>"
      ]
     },
     "metadata": {},
     "output_type": "display_data"
    },
    {
     "data": {
      "text/markdown": [
       "> Jackie Chan stars as Asian Hawk, an Indiana Jones-style adventurer looking to make a fortune in exotic antiquities. After Hawk discovers a mysterious sword in Africa, a band of Satan-worshipping monks kidnap his ex-girlfriend Lorelei, demanding the sword as ransom as well as other pieces of the legendary Armour of God - a magical outfit dating back to the Crusades."
      ],
      "text/plain": [
       "<IPython.core.display.Markdown object>"
      ]
     },
     "metadata": {},
     "output_type": "display_data"
    }
   ],
   "source": [
    "printresults(search(\"Indiana Jones India\"))"
   ]
  },
  {
   "cell_type": "code",
   "execution_count": 12,
   "metadata": {},
   "outputs": [
    {
     "name": "stdout",
     "output_type": "stream",
     "text": [
      "Searching for `Los Angeles escape` ...\n",
      "  q = title_en:( escape)^1.2 overview_en:( escape)\n",
      "  fq = {!geofilt sfield=location}\n",
      "  pt = 34.052238,-118.243344\n",
      "  d = 20\n",
      "\n",
      "---\n"
     ]
    },
    {
     "data": {
      "text/markdown": [
       "### Escape from L.A.\n"
      ],
      "text/plain": [
       "<IPython.core.display.Markdown object>"
      ]
     },
     "metadata": {},
     "output_type": "display_data"
    },
    {
     "data": {
      "text/markdown": [
       "_34.052238,-118.243344_\n"
      ],
      "text/plain": [
       "<IPython.core.display.Markdown object>"
      ]
     },
     "metadata": {},
     "output_type": "display_data"
    },
    {
     "data": {
      "text/markdown": [
       "_1996-08-09T00:00:00Z_\n"
      ],
      "text/plain": [
       "<IPython.core.display.Markdown object>"
      ]
     },
     "metadata": {},
     "output_type": "display_data"
    },
    {
     "data": {
      "text/markdown": [
       "> This time, a cataclysmic temblor hits Los Angeles, turning it into an island. The president views the quake as a sign from above, expels Los Angeles from the country and makes it a penal colony for those found guilty of moral crimes. When his daughter, part of a resistance movement, steals the control unit for a doomsday weapon, Snake again gets tapped to save the day."
      ],
      "text/plain": [
       "<IPython.core.display.Markdown object>"
      ]
     },
     "metadata": {},
     "output_type": "display_data"
    },
    {
     "name": "stdout",
     "output_type": "stream",
     "text": [
      "\n",
      "---\n"
     ]
    },
    {
     "data": {
      "text/markdown": [
       "### The Snow Creature\n"
      ],
      "text/plain": [
       "<IPython.core.display.Markdown object>"
      ]
     },
     "metadata": {},
     "output_type": "display_data"
    },
    {
     "data": {
      "text/markdown": [
       "_34.052238,-118.243344_\n"
      ],
      "text/plain": [
       "<IPython.core.display.Markdown object>"
      ]
     },
     "metadata": {},
     "output_type": "display_data"
    },
    {
     "data": {
      "text/markdown": [
       "_1954-11-01T00:00:00Z_\n"
      ],
      "text/plain": [
       "<IPython.core.display.Markdown object>"
      ]
     },
     "metadata": {},
     "output_type": "display_data"
    },
    {
     "data": {
      "text/markdown": [
       "> A botanical expedition to the Himalayas captures a Yeti and brings it back alive to Los Angeles, where it escapes and runs amok, seeking food."
      ],
      "text/plain": [
       "<IPython.core.display.Markdown object>"
      ]
     },
     "metadata": {},
     "output_type": "display_data"
    },
    {
     "name": "stdout",
     "output_type": "stream",
     "text": [
      "\n",
      "---\n"
     ]
    },
    {
     "data": {
      "text/markdown": [
       "### Blade Runner\n"
      ],
      "text/plain": [
       "<IPython.core.display.Markdown object>"
      ]
     },
     "metadata": {},
     "output_type": "display_data"
    },
    {
     "data": {
      "text/markdown": [
       "_34.052238,-118.243344_\n"
      ],
      "text/plain": [
       "<IPython.core.display.Markdown object>"
      ]
     },
     "metadata": {},
     "output_type": "display_data"
    },
    {
     "data": {
      "text/markdown": [
       "_1982-06-25T00:00:00Z_\n"
      ],
      "text/plain": [
       "<IPython.core.display.Markdown object>"
      ]
     },
     "metadata": {},
     "output_type": "display_data"
    },
    {
     "data": {
      "text/markdown": [
       "> In the smog-choked dystopian Los Angeles of 2019, blade runner Rick Deckard is called out of retirement to terminate a quartet of replicants who have escaped to Earth seeking their creator for a way to extend their short life spans."
      ],
      "text/plain": [
       "<IPython.core.display.Markdown object>"
      ]
     },
     "metadata": {},
     "output_type": "display_data"
    }
   ],
   "source": [
    "printresults(search(\"Los Angeles escape\"))"
   ]
  },
  {
   "cell_type": "code",
   "execution_count": 13,
   "metadata": {},
   "outputs": [
    {
     "name": "stdout",
     "output_type": "stream",
     "text": [
      "Searching for `boxing revenge in Moscow` ...\n",
      "  q = title_en:(boxing revenge in )^1.2 overview_en:(boxing revenge in )\n",
      "  fq = {!geofilt sfield=location}\n",
      "  pt = 55.751634,37.618704\n",
      "  d = 20\n",
      "\n",
      "---\n"
     ]
    },
    {
     "data": {
      "text/markdown": [
       "### Rocky IV\n"
      ],
      "text/plain": [
       "<IPython.core.display.Markdown object>"
      ]
     },
     "metadata": {},
     "output_type": "display_data"
    },
    {
     "data": {
      "text/markdown": [
       "_55.751634,37.618704_\n"
      ],
      "text/plain": [
       "<IPython.core.display.Markdown object>"
      ]
     },
     "metadata": {},
     "output_type": "display_data"
    },
    {
     "data": {
      "text/markdown": [
       "_1985-11-21T00:00:00Z_\n"
      ],
      "text/plain": [
       "<IPython.core.display.Markdown object>"
      ]
     },
     "metadata": {},
     "output_type": "display_data"
    },
    {
     "data": {
      "text/markdown": [
       "> Rocky must come out of retirement to battle a gargantuan Soviet fighter named Drago, who brutally punished Rocky's friend and former rival, Apollo Creed. Seeking revenge in the name of his fallen comrade and his country, Rocky agrees to fight Drago in Moscow on Christmas, and the bout changes both fighters -- and the world."
      ],
      "text/plain": [
       "<IPython.core.display.Markdown object>"
      ]
     },
     "metadata": {},
     "output_type": "display_data"
    }
   ],
   "source": [
    "printresults(search(\"boxing revenge in Moscow\"))"
   ]
  },
  {
   "cell_type": "code",
   "execution_count": 31,
   "metadata": {},
   "outputs": [
    {
     "name": "stdout",
     "output_type": "stream",
     "text": [
      "Searching for `Manhattan` ...\n",
      "  fq = {!geofilt sfield=location}\n",
      "  pt = 40.753259,-74.003804\n",
      "  d = 20\n",
      "\n",
      "---\n"
     ]
    },
    {
     "data": {
      "text/markdown": [
       "### Sleepy Hollow\n"
      ],
      "text/plain": [
       "<IPython.core.display.Markdown object>"
      ]
     },
     "metadata": {},
     "output_type": "display_data"
    },
    {
     "data": {
      "text/markdown": [
       "_40.713054,-74.007228_\n"
      ],
      "text/plain": [
       "<IPython.core.display.Markdown object>"
      ]
     },
     "metadata": {},
     "output_type": "display_data"
    },
    {
     "data": {
      "text/markdown": [
       "_1999-11-18T00:00:00Z_\n"
      ],
      "text/plain": [
       "<IPython.core.display.Markdown object>"
      ]
     },
     "metadata": {},
     "output_type": "display_data"
    },
    {
     "data": {
      "text/markdown": [
       "> New York detective Ichabod Crane is sent to Sleepy Hollow to investigate a series of mysterious deaths in which the victims are found beheaded. But the locals believe the culprit to be none other than the ghost of the legendary Headless Horseman."
      ],
      "text/plain": [
       "<IPython.core.display.Markdown object>"
      ]
     },
     "metadata": {},
     "output_type": "display_data"
    },
    {
     "name": "stdout",
     "output_type": "stream",
     "text": [
      "\n",
      "---\n"
     ]
    },
    {
     "data": {
      "text/markdown": [
       "### The April Fools\n"
      ],
      "text/plain": [
       "<IPython.core.display.Markdown object>"
      ]
     },
     "metadata": {},
     "output_type": "display_data"
    },
    {
     "data": {
      "text/markdown": [
       "_40.713054,-74.007228_\n"
      ],
      "text/plain": [
       "<IPython.core.display.Markdown object>"
      ]
     },
     "metadata": {},
     "output_type": "display_data"
    },
    {
     "data": {
      "text/markdown": [
       "_1969-05-23T00:00:00Z_\n"
      ],
      "text/plain": [
       "<IPython.core.display.Markdown object>"
      ]
     },
     "metadata": {},
     "output_type": "display_data"
    },
    {
     "data": {
      "text/markdown": [
       "> Newly-promoted if none too happily married Howard Brubaker leaves a rowdy Company party early with the stunning Catherine, whom it turns out is herself unhappily married - to the boss. They spend an innocent night in New York becoming more and more attracted to each other, so that when Catherine announces she intends to leave her husband and return to Paris Howard asks to go along too. In the cold light of morning problems and pressures from spouses crowd in"
      ],
      "text/plain": [
       "<IPython.core.display.Markdown object>"
      ]
     },
     "metadata": {},
     "output_type": "display_data"
    }
   ],
   "source": [
    "printresults(search(\"Manhattan\")) #There is a movie 'Manhattan' (Woody Allen, 1979)"
   ]
  },
  {
   "cell_type": "code",
   "execution_count": null,
   "metadata": {},
   "outputs": [],
   "source": []
  }
 ],
 "metadata": {
  "kernelspec": {
   "display_name": "Python 3",
   "language": "python",
   "name": "python3"
  },
  "language_info": {
   "codemirror_mode": {
    "name": "ipython",
    "version": 3
   },
   "file_extension": ".py",
   "mimetype": "text/x-python",
   "name": "python",
   "nbconvert_exporter": "python",
   "pygments_lexer": "ipython3",
   "version": "3.6.7"
  }
 },
 "nbformat": 4,
 "nbformat_minor": 2
}
