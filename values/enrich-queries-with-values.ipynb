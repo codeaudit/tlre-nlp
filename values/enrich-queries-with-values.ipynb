{
 "cells": [
  {
   "cell_type": "code",
   "execution_count": 1,
   "metadata": {},
   "outputs": [],
   "source": [
    "import pysolr\n",
    "import requests\n",
    "import datetime\n",
    "import json\n",
    "import dateutil.parser"
   ]
  },
  {
   "cell_type": "code",
   "execution_count": 2,
   "metadata": {},
   "outputs": [],
   "source": [
    "#Format dates for Solr in ISO-8601 Zulu\n",
    "def solrdate(text):\n",
    "    dt = dateutil.parser.parse(text)\n",
    "    return dt.strftime('%Y-%m-%dT%H:%M:%SZ')\n",
    "\n",
    "#Pretty print JSON\n",
    "def pretty(data):\n",
    "    print(json.dumps(data, indent=4, sort_keys=True))"
   ]
  },
  {
   "cell_type": "markdown",
   "metadata": {},
   "source": [
    "### Make a request to the Duckling service"
   ]
  },
  {
   "cell_type": "code",
   "execution_count": 3,
   "metadata": {},
   "outputs": [],
   "source": [
    "#Duckling service.  More info: https://github.com/facebook/duckling\n",
    "duckling_url='http://localhost:8000/parse'\n",
    "def duckling(text):\n",
    "    req = requests.post(duckling_url, data = {\"locale\":\"en_US\",\"text\":text})\n",
    "    return req.json()"
   ]
  },
  {
   "cell_type": "markdown",
   "metadata": {},
   "source": [
    "### Try a couple examples"
   ]
  },
  {
   "cell_type": "code",
   "execution_count": 4,
   "metadata": {},
   "outputs": [
    {
     "name": "stdout",
     "output_type": "stream",
     "text": [
      "[\n",
      "    {\n",
      "        \"body\": \"13\",\n",
      "        \"dim\": \"number\",\n",
      "        \"end\": 2,\n",
      "        \"latent\": false,\n",
      "        \"start\": 0,\n",
      "        \"value\": {\n",
      "            \"type\": \"value\",\n",
      "            \"value\": 13\n",
      "        }\n",
      "    },\n",
      "    {\n",
      "        \"body\": \"50\",\n",
      "        \"dim\": \"number\",\n",
      "        \"end\": 12,\n",
      "        \"latent\": false,\n",
      "        \"start\": 10,\n",
      "        \"value\": {\n",
      "            \"type\": \"value\",\n",
      "            \"value\": 50\n",
      "        }\n",
      "    }\n",
      "]\n"
     ]
    }
   ],
   "source": [
    "pretty(duckling(\"13 out of 50 of the United States\"))"
   ]
  },
  {
   "cell_type": "code",
   "execution_count": 5,
   "metadata": {},
   "outputs": [
    {
     "name": "stdout",
     "output_type": "stream",
     "text": [
      "[\n",
      "    {\n",
      "        \"body\": \"50 cents\",\n",
      "        \"dim\": \"amount-of-money\",\n",
      "        \"end\": 8,\n",
      "        \"latent\": false,\n",
      "        \"start\": 0,\n",
      "        \"value\": {\n",
      "            \"type\": \"value\",\n",
      "            \"unit\": \"cent\",\n",
      "            \"value\": 50\n",
      "        }\n",
      "    }\n",
      "]\n"
     ]
    }
   ],
   "source": [
    "pretty(duckling(\"50 cents\"))"
   ]
  },
  {
   "cell_type": "code",
   "execution_count": 6,
   "metadata": {},
   "outputs": [
    {
     "name": "stdout",
     "output_type": "stream",
     "text": [
      "[\n",
      "    {\n",
      "        \"body\": \"Dec 1990 to March\",\n",
      "        \"dim\": \"time\",\n",
      "        \"end\": 17,\n",
      "        \"latent\": false,\n",
      "        \"start\": 0,\n",
      "        \"value\": {\n",
      "            \"from\": {\n",
      "                \"grain\": \"month\",\n",
      "                \"value\": \"1990-12-01T00:00:00.000-08:00\"\n",
      "            },\n",
      "            \"to\": {\n",
      "                \"grain\": \"month\",\n",
      "                \"value\": \"1991-04-01T00:00:00.000-08:00\"\n",
      "            },\n",
      "            \"type\": \"interval\",\n",
      "            \"values\": [\n",
      "                {\n",
      "                    \"from\": {\n",
      "                        \"grain\": \"month\",\n",
      "                        \"value\": \"1990-12-01T00:00:00.000-08:00\"\n",
      "                    },\n",
      "                    \"to\": {\n",
      "                        \"grain\": \"month\",\n",
      "                        \"value\": \"1991-04-01T00:00:00.000-08:00\"\n",
      "                    },\n",
      "                    \"type\": \"interval\"\n",
      "                }\n",
      "            ]\n",
      "        }\n",
      "    },\n",
      "    {\n",
      "        \"body\": \"March 1987\",\n",
      "        \"dim\": \"time\",\n",
      "        \"end\": 22,\n",
      "        \"latent\": false,\n",
      "        \"start\": 12,\n",
      "        \"value\": {\n",
      "            \"grain\": \"month\",\n",
      "            \"type\": \"value\",\n",
      "            \"value\": \"1987-03-01T00:00:00.000-08:00\",\n",
      "            \"values\": [\n",
      "                {\n",
      "                    \"grain\": \"month\",\n",
      "                    \"type\": \"value\",\n",
      "                    \"value\": \"1987-03-01T00:00:00.000-08:00\"\n",
      "                }\n",
      "            ]\n",
      "        }\n",
      "    }\n",
      "]\n"
     ]
    }
   ],
   "source": [
    "pretty(duckling(\"Dec 1990 to March 1987\"))"
   ]
  },
  {
   "cell_type": "code",
   "execution_count": 8,
   "metadata": {},
   "outputs": [
    {
     "name": "stdout",
     "output_type": "stream",
     "text": [
      "[\n",
      "    {\n",
      "        \"body\": \"last 5 years\",\n",
      "        \"dim\": \"time\",\n",
      "        \"end\": 12,\n",
      "        \"latent\": false,\n",
      "        \"start\": 0,\n",
      "        \"value\": {\n",
      "            \"from\": {\n",
      "                \"grain\": \"year\",\n",
      "                \"value\": \"2014-01-01T00:00:00.000-08:00\"\n",
      "            },\n",
      "            \"to\": {\n",
      "                \"grain\": \"year\",\n",
      "                \"value\": \"2019-01-01T00:00:00.000-08:00\"\n",
      "            },\n",
      "            \"type\": \"interval\",\n",
      "            \"values\": [\n",
      "                {\n",
      "                    \"from\": {\n",
      "                        \"grain\": \"year\",\n",
      "                        \"value\": \"2014-01-01T00:00:00.000-08:00\"\n",
      "                    },\n",
      "                    \"to\": {\n",
      "                        \"grain\": \"year\",\n",
      "                        \"value\": \"2019-01-01T00:00:00.000-08:00\"\n",
      "                    },\n",
      "                    \"type\": \"interval\"\n",
      "                }\n",
      "            ]\n",
      "        }\n",
      "    }\n",
      "]\n"
     ]
    }
   ],
   "source": [
    "pretty(duckling(\"last 5 years\"))"
   ]
  },
  {
   "cell_type": "code",
   "execution_count": 9,
   "metadata": {},
   "outputs": [
    {
     "name": "stdout",
     "output_type": "stream",
     "text": [
      "[\n",
      "    {\n",
      "        \"body\": \"1992\",\n",
      "        \"dim\": \"number\",\n",
      "        \"end\": 4,\n",
      "        \"latent\": false,\n",
      "        \"start\": 0,\n",
      "        \"value\": {\n",
      "            \"type\": \"value\",\n",
      "            \"value\": 1992\n",
      "        }\n",
      "    }\n",
      "]\n"
     ]
    }
   ],
   "source": [
    "pretty(duckling(\"1992\"))"
   ]
  },
  {
   "cell_type": "code",
   "execution_count": 23,
   "metadata": {},
   "outputs": [
    {
     "name": "stdout",
     "output_type": "stream",
     "text": [
      "[\n",
      "    {\n",
      "        \"body\": \"1990\",\n",
      "        \"dim\": \"number\",\n",
      "        \"end\": 4,\n",
      "        \"latent\": false,\n",
      "        \"start\": 0,\n",
      "        \"value\": {\n",
      "            \"type\": \"value\",\n",
      "            \"value\": 1990\n",
      "        }\n",
      "    }\n",
      "]\n"
     ]
    }
   ],
   "source": [
    "pretty(duckling(\"1990s\"))"
   ]
  },
  {
   "cell_type": "markdown",
   "metadata": {},
   "source": [
    "### Enrich a query with a year interval using Duckling and Solr"
   ]
  },
  {
   "cell_type": "code",
   "execution_count": 10,
   "metadata": {},
   "outputs": [],
   "source": [
    "def enrich_date_interval(q):\n",
    "    entities = duckling(q)\n",
    "    enrichment = {\"q\":q}\n",
    "    query = \"\"\n",
    "    cursor = 0\n",
    "    for e in entities:\n",
    "        dim = e[\"dim\"]\n",
    "        val = e[\"value\"]\n",
    "        typ = val[\"type\"]\n",
    "        values = None\n",
    "        \n",
    "        if dim==\"time\" and typ==\"interval\":\n",
    "            values = val[\"values\"]\n",
    "            \n",
    "        if values:\n",
    "            #Remove the interval text from the query\n",
    "            query += q[cursor:e[\"start\"]]\n",
    "            query += q[e[\"end\"]:]\n",
    "            cursor = e[\"end\"]\n",
    "\n",
    "            #Add the filter, convert to q and fq solr queries\n",
    "            fromdt = solrdate(values[0][\"from\"][\"value\"])\n",
    "            todt = solrdate(values[0][\"to\"][\"value\"])\n",
    "            enrichment[\"fq\"] = \"release_date:[\" + fromdt + \" TO \" + todt + \"]\"\n",
    "            enrichment[\"q\"]=query\n",
    "            \n",
    "    return enrichment"
   ]
  },
  {
   "cell_type": "code",
   "execution_count": 11,
   "metadata": {},
   "outputs": [],
   "source": [
    "#Solr Client\n",
    "solr = pysolr.Solr('http://localhost:8983/solr/tmdb')\n",
    "\n",
    "#Print the Title, Release Date, and Overview from TMDB\n",
    "def printresults(res):\n",
    "    for r in res:\n",
    "        print('\\n---')\n",
    "        print('\\n\\t'.join([r[\"title\"][0],r[\"release_date\"],r[\"overview\"][0]]))\n",
    "\n",
    "def solrquery(q):\n",
    "    return \"title_en:(\"+q+\")^1.2 overview_en:(\"+q+\")\"\n",
    "        \n",
    "#Enrich and Search a text query\n",
    "def search(query,func=enrich_date_interval):\n",
    "    enriched = func(query)\n",
    "    q = solrquery(enriched[\"q\"])\n",
    "    print(\"Searching for `\" + query + \"` ...\")\n",
    "    print(\"  q = \" + q)\n",
    "    if \"fq\" in enriched and isinstance(enriched[\"fq\"], str):\n",
    "        print(\"  fq = \" + enriched[\"fq\"])\n",
    "        res = solr.search(q=q,fq=enriched[\"fq\"],fl=\"title,overview,release_date\",rows=3)\n",
    "    else:\n",
    "        print(\"  ...no enrichments\")\n",
    "        res = solr.search(q=q,fl=\"title,overview,release_date\",rows=3)\n",
    "\n",
    "    return res"
   ]
  },
  {
   "cell_type": "markdown",
   "metadata": {},
   "source": [
    "### Let's try it with some good examples"
   ]
  },
  {
   "cell_type": "code",
   "execution_count": 13,
   "metadata": {},
   "outputs": [
    {
     "name": "stdout",
     "output_type": "stream",
     "text": [
      "Searching for `star trek last 6 years` ...\n",
      "  q = title_en:(star trek )^1.2 overview_en:(star trek )\n",
      "  fq = release_date:[2013-01-01T00:00:00Z TO 2019-01-01T00:00:00Z]\n",
      "\n",
      "---\n",
      "Star Trek Into Darkness\n",
      "\t2013-05-05T00:00:00Z\n",
      "\tWhen the crew of the Enterprise is called back home, they find an unstoppable force of terror from within their own organization has detonated the fleet and everything it stands for, leaving our world in a state of crisis.  With a personal score to settle, Captain Kirk leads a manhunt to a war-zone world to capture a one man weapon of mass destruction. As our heroes are propelled into an epic chess game of life and death, love will be challenged, friendships will be torn apart, and sacrifices must be made for the only family Kirk has left: his crew.\n",
      "\n",
      "---\n",
      "Star Trek Beyond\n",
      "\t2016-07-07T00:00:00Z\n",
      "\tThe USS Enterprise crew explores the furthest reaches of uncharted space, where they encounter a mysterious new enemy who puts them and everything the Federation stands for to the test.\n",
      "\n",
      "---\n",
      "Rogue One: A Star Wars Story\n",
      "\t2016-12-14T00:00:00Z\n",
      "\tA rogue band of resistance fighters unite for a mission to steal the Death Star plans and bring a new hope to the galaxy.\n"
     ]
    }
   ],
   "source": [
    "printresults(search(\"star trek last 6 years\"))"
   ]
  },
  {
   "cell_type": "code",
   "execution_count": 17,
   "metadata": {},
   "outputs": [
    {
     "name": "stdout",
     "output_type": "stream",
     "text": [
      "Searching for `indiana jones 1/1/1980 to 12/31/1987` ...\n",
      "  q = title_en:(indiana jones )^1.2 overview_en:(indiana jones )\n",
      "  fq = release_date:[1980-01-01T00:00:00Z TO 1988-01-01T00:00:00Z]\n",
      "\n",
      "---\n",
      "Indiana Jones and the Temple of Doom\n",
      "\t1984-05-23T00:00:00Z\n",
      "\tAfter arriving in India, Indiana Jones is asked by a desperate village to find a mystical stone. He agrees – and stumbles upon a secret cult plotting a terrible plan in the catacombs of an ancient palace.\n",
      "\n",
      "---\n",
      "Raiders of the Lost Ark\n",
      "\t1981-06-12T00:00:00Z\n",
      "\tWhen Dr. Indiana Jones – the tweed-suited professor who just happens to be a celebrated archaeologist – is hired by the government to locate the legendary Ark of the Covenant, he finds himself up against the entire Nazi regime.\n",
      "\n",
      "---\n",
      "Guyana Tragedy: The Story of Jim Jones\n",
      "\t1980-04-15T00:00:00Z\n",
      "\tThe story of the Peoples Temple cult led by Jim Jones and the events leading up to one of the largest mass suicides in history.\n"
     ]
    }
   ],
   "source": [
    "printresults(search(\"indiana jones 1/1/1980 to 12/31/1987\"))"
   ]
  },
  {
   "cell_type": "code",
   "execution_count": 19,
   "metadata": {},
   "outputs": [
    {
     "name": "stdout",
     "output_type": "stream",
     "text": [
      "Searching for `harry potter goblet` ...\n",
      "  q = title_en:(harry potter goblet)^1.2 overview_en:(harry potter goblet)\n",
      "  ...no enrichments\n",
      "\n",
      "---\n",
      "Harry Potter and the Goblet of Fire\n",
      "\t2005-11-05T00:00:00Z\n",
      "\tHarry starts his fourth year at Hogwarts, competes in the treacherous Triwizard Tournament and faces the evil Lord Voldemort. Ron and Hermione help Harry manage the pressure – but Voldemort lurks, awaiting his chance to destroy Harry and all that he stands for.\n",
      "\n",
      "---\n",
      "Harry Potter and the Philosopher's Stone\n",
      "\t2001-11-16T00:00:00Z\n",
      "\tHarry Potter has lived under the stairs at his aunt and uncle's house his whole life. But on his 11th birthday, he learns he's a powerful wizard -- with a place waiting for him at the Hogwarts School of Witchcraft and Wizardry. As he learns to harness his newfound powers with the help of the school's kindly headmaster, Harry uncovers the truth about his parents' deaths -- and about the villain who's to blame.\n",
      "\n",
      "---\n",
      "A Very Potter Musical\n",
      "\t2009-04-09T00:00:00Z\n",
      "\tIn April 2009, a group of University of Michigan students (Team StarKid) performed what was renamed \"A Very Potter Musical\", a two act musical parody that featured major elements from all seven Harry Potter books and an original score.\n"
     ]
    }
   ],
   "source": [
    "printresults(search(\"harry potter goblet\"))"
   ]
  },
  {
   "cell_type": "code",
   "execution_count": 20,
   "metadata": {},
   "outputs": [
    {
     "name": "stdout",
     "output_type": "stream",
     "text": [
      "Searching for `1992 comedies` ...\n",
      "  q = title_en:(1992 comedies)^1.2 overview_en:(1992 comedies)\n",
      "  ...no enrichments\n",
      "\n",
      "---\n",
      "The Comedians of Comedy\n",
      "\t2005-03-01T00:00:00Z\n",
      "\tThe Comedians of Comedy is an occasional stand-up comedy tour featuring Patton Oswalt, Zach Galifianakis, Brian Posehn and Maria Bamford that was documented in a 2005 film and 2005 Comedy Central television series of the same name, both directed by Michael Blieden.\n",
      "\n",
      "---\n",
      "The Original Kings of Comedy\n",
      "\t2000-08-18T00:00:00Z\n",
      "\tThe Original Kings of Comedy achieves the seemingly impossible task of capturing the rollicking and sly comedy routines of stand-up and sitcom vets Steve Harvey, D.L. Hughley, Cedric the Entertainer, and Bernie Mac and the magic of experiencing a live concert show. Director Spike Lee and his crew plant a multitude of cameras in a packed stadium and onstage (as well as backstage, as they follow the comedians) to catch the vivid immediacy of the show, which is as much about the audience as it is about the jokes.\n",
      "\n",
      "---\n",
      "Year of the Comet\n",
      "\t1992-04-24T00:00:00Z\n",
      "\tYear of the Comet is a 1992 romantic comedy adventure film about the pursuit of the most valuable bottle of wine in history. The title refers to the year it was bottled, 1811, which was known for the Great Comet of 1811, and also as one of the best years in history for European wine.\n"
     ]
    }
   ],
   "source": [
    "printresults(search(\"1992 comedies\"))"
   ]
  },
  {
   "cell_type": "code",
   "execution_count": 21,
   "metadata": {},
   "outputs": [],
   "source": [
    "def enrich_date_interval_extended(q):\n",
    "    entities = duckling(q)\n",
    "    enrichment = {\"q\":q}\n",
    "    query = \"\"\n",
    "    cursor = 0\n",
    "    for e in entities:\n",
    "        dim = e[\"dim\"]\n",
    "        val = e[\"value\"]\n",
    "        typ = val[\"type\"]\n",
    "        values = None\n",
    "        \n",
    "        if dim==\"time\" and typ==\"interval\":\n",
    "\n",
    "            values = val[\"values\"]\n",
    "\n",
    "        elif dim==\"number\" and isinstance(val[\"value\"],int) and val[\"value\"]>=1900 and val[\"value\"]<=2019:\n",
    "            \n",
    "            values = [{\n",
    "                    \"from\": {\n",
    "                        \"grain\": \"year\",\n",
    "                        \"value\": str(val[\"value\"]) + \"-01-01T00:00:00.000-08:00\"\n",
    "                    },\n",
    "                    \"to\": {\n",
    "                        \"grain\": \"year\",\n",
    "                        \"value\": str(val[\"value\"]) + \"-12-31T23:59:59.999-08:00\"\n",
    "                    },\n",
    "                    \"type\": \"interval\"\n",
    "                }]\n",
    "            \n",
    "        if values:\n",
    "            #Remove the interval text from the query\n",
    "            query += q[cursor:e[\"start\"]]\n",
    "            query += q[e[\"end\"]:]\n",
    "            cursor = e[\"end\"]\n",
    "\n",
    "            #Add the filter, convert to q and fq solr queries\n",
    "            fromdt = solrdate(values[0][\"from\"][\"value\"])\n",
    "            todt = solrdate(values[0][\"to\"][\"value\"])\n",
    "            enrichment[\"fq\"] = \"release_date:[\" + fromdt + \" TO \" + todt + \"]\"\n",
    "            enrichment[\"q\"]=query\n",
    "            \n",
    "    return enrichment"
   ]
  },
  {
   "cell_type": "code",
   "execution_count": 22,
   "metadata": {},
   "outputs": [
    {
     "name": "stdout",
     "output_type": "stream",
     "text": [
      "Searching for `1992 comedies` ...\n",
      "  q = title_en:( comedies)^1.2 overview_en:( comedies)\n",
      "  fq = release_date:[1992-01-01T00:00:00Z TO 1992-12-31T23:59:59Z]\n",
      "\n",
      "---\n",
      "Year of the Comet\n",
      "\t1992-04-24T00:00:00Z\n",
      "\tYear of the Comet is a 1992 romantic comedy adventure film about the pursuit of the most valuable bottle of wine in history. The title refers to the year it was bottled, 1811, which was known for the Great Comet of 1811, and also as one of the best years in history for European wine.\n",
      "\n",
      "---\n",
      "Singles\n",
      "\t1992-09-18T00:00:00Z\n",
      "\tRomantic comedy about six of Seattle's young people, most of whom live in the same apartment building and whose lives revolve around the city's ever-expanding music scene. The interrelated stories about each character's progress through the singles scene are intriguing and often very funny, and the soundtrack is a grunge fanatic's dream, with the likes of Soundgarden, Pearl Jam and Mudhoney.\n",
      "\n",
      "---\n",
      "Mistress\n",
      "\t1992-07-24T00:00:00Z\n",
      "\tA comedy about a screenwriter (Wuhl) whose old movie script is read by a producer (Landau) and the search for financial backers begins. But it seems that each money source (Aiello, DeNiro, Wallach) has his own mistress that he wants put into the film. Gradually, the screenwriter is forced to make changes to his script to accommodate these backers until he finally sees no semblance of his original ideas in the writing.\n"
     ]
    }
   ],
   "source": [
    "printresults(search(\"1992 comedies\",func=enrich_date_interval_extended))"
   ]
  },
  {
   "cell_type": "code",
   "execution_count": null,
   "metadata": {},
   "outputs": [],
   "source": []
  }
 ],
 "metadata": {
  "kernelspec": {
   "display_name": "Python 3",
   "language": "python",
   "name": "python3"
  },
  "language_info": {
   "codemirror_mode": {
    "name": "ipython",
    "version": 3
   },
   "file_extension": ".py",
   "mimetype": "text/x-python",
   "name": "python",
   "nbconvert_exporter": "python",
   "pygments_lexer": "ipython3",
   "version": "3.6.7"
  }
 },
 "nbformat": 4,
 "nbformat_minor": 2
}
